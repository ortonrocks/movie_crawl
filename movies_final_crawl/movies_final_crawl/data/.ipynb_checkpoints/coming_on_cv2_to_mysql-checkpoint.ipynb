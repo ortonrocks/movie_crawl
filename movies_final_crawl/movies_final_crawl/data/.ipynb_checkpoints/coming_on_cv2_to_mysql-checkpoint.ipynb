{
 "cells": [
  {
   "cell_type": "code",
   "execution_count": 19,
   "id": "339cbad1",
   "metadata": {},
   "outputs": [],
   "source": [
    "import pymysql\n",
    "config = {\n",
    "        'host': 'localhost',\n",
    "        'port': 3306,\n",
    "        'user': 'root',\n",
    "        'passwd': '!Qqaz2wsx',\n",
    "        'db': 'try',\n",
    "        'charset': 'utf8mb4',\n",
    "        'local_infile': 1\n",
    "\n",
    "    }\n",
    "\n",
    "def yahoo_csv_to_mysql(selected_table):\n",
    "    #connect to database\n",
    "\n",
    "    #def load_csv(csv_file,table_name,database)\n",
    "    csv_file= 'coming_movie_info.csv'\n",
    "    table_name=F'{selected_table}'\n",
    "\n",
    "    conn=pymysql.connect(** config)\n",
    "\n",
    "    cur=conn.cursor()\n",
    "\n",
    "    #data_sql=\"LOAD DATA LOCAL INFILE '%s' INTO TABLE %s FIELDS TERMINATED BY ',' LINES TERMINATED BY '\\\\r\\\\n' IGNORE 1 LINES\" %(csv_file,table_name)\n",
    "    delete_previous_data=F'delete from {selected_table}'\n",
    "   # cur.execute(data_sql)\n",
    "    cur.execute(delete_previous_data)\n",
    "\n",
    "    conn.commit()\n",
    "    conn.close()\n",
    "    cur.close()\n",
    "    print('reconstruct success')\n"
   ]
  },
  {
   "cell_type": "code",
   "execution_count": null,
   "id": "c88374e8",
   "metadata": {},
   "outputs": [],
   "source": [
    "def insert_coming_movie_to_mysql():\n",
    "    conn = pymysql.connect(**config)\n",
    "    print('successfully connected')\n",
    "\n",
    "    cur = conn.cursor()\n",
    "\n",
    "    # get_data_sql = \"select * from user where uid = '\"+str(uid)+\"' ;\"\n",
    "    #\n",
    "    # cur.execute(get_data_sql)\n",
    "    # data=cur.fetchall()\n",
    "    # if len(data)==0:\n",
    "    insert_user_sql=\"insert into movie_booking (uname, mname,session) values ('{}','{}','{}')\".format(uname,mname,session)\n",
    "    cur.execute(insert_user_sql)\n",
    "    conn.commit()\n",
    "    print('成功存入movie_booking資料')\n",
    "    # else:\n",
    "    # print('已經註冊過了！')\n",
    "    cur.close()\n",
    "    conn.close()"
   ]
  },
  {
   "cell_type": "code",
   "execution_count": null,
   "id": "c50397bb",
   "metadata": {
    "scrolled": true
   },
   "outputs": [],
   "source": [
    "yahoo_csv_to_mysql()"
   ]
  },
  {
   "cell_type": "code",
   "execution_count": 1,
   "id": "7cc5968b",
   "metadata": {},
   "outputs": [
    {
     "name": "stdout",
     "output_type": "stream",
     "text": [
      "reconstruct success\n",
      "successfully connected\n",
      "successfully input data to table coming_movie\n",
      "reconstruct success\n",
      "successfully connected\n",
      "successfully input data to table on_movie\n"
     ]
    }
   ],
   "source": [
    "import csv \n",
    "import pymysql\n",
    "\n",
    "config = {\n",
    "    'host': 'localhost',\n",
    "    'port': 3306,\n",
    "    'user': 'root',\n",
    "    'passwd': '!Qqaz2wsx',\n",
    "    'db': 'try',\n",
    "    'charset': 'utf8mb4',\n",
    "    'local_infile': 1\n",
    "\n",
    "}\n",
    "\n",
    "\n",
    "def yahoo_csv_to_mysql(selected_table):\n",
    "    #connect to database\n",
    "\n",
    "    #def load_csv(csv_file,table_name,database)\n",
    "    csv_file= 'coming_movie_info.csv'\n",
    "    table_name=F'{selected_table}'\n",
    "\n",
    "    conn=pymysql.connect(** config)\n",
    "\n",
    "    cur=conn.cursor()\n",
    "\n",
    "    #data_sql=\"LOAD DATA LOCAL INFILE '%s' INTO TABLE %s FIELDS TERMINATED BY ',' LINES TERMINATED BY '\\\\r\\\\n' IGNORE 1 LINES\" %(csv_file,table_name)\n",
    "    delete_previous_data=F'delete from {selected_table}'\n",
    "   # cur.execute(data_sql)\n",
    "    cur.execute(delete_previous_data)\n",
    "\n",
    "    conn.commit()\n",
    "    conn.close()\n",
    "    cur.close()\n",
    "    print('reconstruct success')\n",
    "\n",
    "def input_on_coming_movie_data(selected_table):\n",
    "\n",
    "\n",
    "    yahoo_csv_to_mysql(selected_table)   \n",
    "    conn = pymysql.connect(**config)\n",
    "    print('successfully connected')\n",
    "    cur = conn.cursor()\n",
    "    with open(F'{selected_table}_info.csv',encoding='utf-8') as r:\n",
    "        read=csv.reader(r)\n",
    "        count=0\n",
    "        for row in read:\n",
    "            if count>0:\n",
    "                movie_name=row[0]\n",
    "                movie_type=row[1]\n",
    "                movie_date=row[2]\n",
    "                movie_content=row[3]\n",
    "                movie_pic=row[4]\n",
    "                movie_trailer=row[5]\n",
    "\n",
    "                insert_user_sql=F\"insert into {selected_table} (movie_name, movie_type,movie_date,movie_content,movie_pic,movie_trailer) values ('{movie_name}','{movie_type}','{movie_date}','{movie_content}','{movie_pic}','{movie_trailer}')\"\n",
    "                cur.execute(insert_user_sql)\n",
    "                conn.commit()\n",
    "            count+=1\n",
    "    cur.close()\n",
    "    conn.close()\n",
    "    r.close()\n",
    "    print(F'successfully input data to table {selected_table}')            \n",
    "input_on_coming_movie_data('coming_movie')\n",
    "input_on_coming_movie_data('on_movie')\n",
    "        "
   ]
  },
  {
   "cell_type": "code",
   "execution_count": 3,
   "id": "c9289240",
   "metadata": {},
   "outputs": [
    {
     "data": {
      "text/plain": [
       "0"
      ]
     },
     "execution_count": 3,
     "metadata": {},
     "output_type": "execute_result"
    }
   ],
   "source": [
    "count"
   ]
  },
  {
   "cell_type": "code",
   "execution_count": 4,
   "id": "42022599",
   "metadata": {},
   "outputs": [
    {
     "name": "stdout",
     "output_type": "stream",
     "text": [
      "successfully connected\n",
      "成功存入movie_booking資料\n"
     ]
    }
   ],
   "source": [
    "movie_name='駭客任務：復活'\n",
    "movie_type='動作，科幻，'\n",
    "movie_date='2021-12-22'\n",
    "movie_content='《駭客任務：復活》由原系列導演拉娜華卓斯基執導，是影迷期待已'\n",
    "movie_pic='https://movies.yahoo.com.tw/i/o/production/movies/November2021/WgnY1WlMJ2DEK2yUjxVB-1080x1542.jpg'\n",
    "movie_trailer='https://movies.yahoo.com.tw/video/%E9%A7%AD%E5%AE%A2%E4%BB%BB%E5%8B%99-%E5%BE%A9%E6%B4%BB-%E5%B9%95%E5%BE%8C%E8%8A%B1%E7%B5%AE-145135067.html?movie_id=11744'\n",
    "conn = pymysql.connect(**config)\n",
    "print('successfully connected')\n",
    "\n",
    "cur = conn.cursor()\n",
    "\n",
    "# get_data_sql = \"select * from user where uid = '\"+str(uid)+\"' ;\"\n",
    "#\n",
    "# cur.execute(get_data_sql)\n",
    "# data=cur.fetchall()\n",
    "# if len(data)==0:\n",
    "insert_user_sql=\"insert into on_movie (movie_name, movie_type,movie_date,movie_content,movie_pic,movie_trailer) values ('{}','{}','{}','{}','{}','{}')\".format(movie_name, movie_type,movie_date,movie_content,movie_pic,movie_trailer)\n",
    "cur.execute(insert_user_sql)\n",
    "conn.commit()\n",
    "print('成功存入on_movie資料')    \n",
    "cur.close()\n",
    "conn.close()"
   ]
  },
  {
   "cell_type": "code",
   "execution_count": null,
   "id": "f1fc24f6",
   "metadata": {},
   "outputs": [],
   "source": []
  }
 ],
 "metadata": {
  "kernelspec": {
   "display_name": "Python 3",
   "language": "python",
   "name": "python3"
  },
  "language_info": {
   "codemirror_mode": {
    "name": "ipython",
    "version": 3
   },
   "file_extension": ".py",
   "mimetype": "text/x-python",
   "name": "python",
   "nbconvert_exporter": "python",
   "pygments_lexer": "ipython3",
   "version": "3.8.8"
  }
 },
 "nbformat": 4,
 "nbformat_minor": 5
}
